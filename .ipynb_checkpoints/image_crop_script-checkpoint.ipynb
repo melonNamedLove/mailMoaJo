{
 "cells": [
  {
   "cell_type": "code",
   "execution_count": 1,
   "id": "7c37d4c4-37b8-463e-bf7e-17a4d0f9d7ff",
   "metadata": {},
   "outputs": [],
   "source": [
    "from PIL import Image, ImageDraw"
   ]
  },
  {
   "cell_type": "code",
   "execution_count": 2,
   "id": "b727e258-7d79-47fd-80d8-b95cb500da1e",
   "metadata": {},
   "outputs": [],
   "source": [
    "\n",
    "file_path = \"E:/githubWorkSpace/mailMoaJo/mailmoajo2/app/src/main/res/drawable/mailmoajo_logo.png\""
   ]
  },
  {
   "cell_type": "code",
   "execution_count": 5,
   "id": "e88fa9f2-0fe4-49a1-9196-a400f73a83a3",
   "metadata": {},
   "outputs": [],
   "source": [
    "def crop_to_circle(image_path, output_path):\n",
    "    # 이미지를 열기\n",
    "    img = Image.open(image_path).convert(\"RGBA\")\n",
    "    \n",
    "    # 이미지의 크기 가져오기\n",
    "    width, height = img.size\n",
    "    min_dim = min(width, height)\n",
    "    \n",
    "    # 원형 마스크 생성\n",
    "    mask = Image.new('L', (width, height), 0)\n",
    "    draw = ImageDraw.Draw(mask)\n",
    "    draw.ellipse((0, 0, min_dim, min_dim), fill=255)\n",
    "    \n",
    "    # 원형으로 자르기\n",
    "    result = Image.new('RGBA', (width, height))\n",
    "    result.paste(img, (0, 0), mask=mask)\n",
    "    \n",
    "    # 잘린 부분을 투명으로 설정\n",
    "    result = result.crop((0, 0, min_dim, min_dim))\n",
    "    \n",
    "    # 결과 저장\n",
    "    result.save(output_path, format=\"PNG\")\n"
   ]
  },
  {
   "cell_type": "code",
   "execution_count": 6,
   "id": "de9adfcf-5796-4949-b824-0ec6b2b8d656",
   "metadata": {},
   "outputs": [],
   "source": [
    "\n",
    "crop_to_circle(file_path, \"E:/githubWorkSpace/mailMoaJo/mailmoajo2/app/src/main/res/drawable/mailmoajo_logo.png\")"
   ]
  },
  {
   "cell_type": "code",
   "execution_count": null,
   "id": "49940312-3b94-49ed-8e45-4cd3af6844f9",
   "metadata": {},
   "outputs": [],
   "source": []
  }
 ],
 "metadata": {
  "kernelspec": {
   "display_name": "Python 3 (ipykernel)",
   "language": "python",
   "name": "python3"
  },
  "language_info": {
   "codemirror_mode": {
    "name": "ipython",
    "version": 3
   },
   "file_extension": ".py",
   "mimetype": "text/x-python",
   "name": "python",
   "nbconvert_exporter": "python",
   "pygments_lexer": "ipython3",
   "version": "3.12.1"
  }
 },
 "nbformat": 4,
 "nbformat_minor": 5
}
