{
 "cells": [
  {
   "cell_type": "code",
   "execution_count": 2,
   "id": "ce161980-0fa3-4641-85d0-42bd2d840167",
   "metadata": {},
   "outputs": [
    {
     "name": "stdout",
     "output_type": "stream",
     "text": [
      "Collecting Pillow==9.5.0\n",
      "  Using cached Pillow-9.5.0-cp312-cp312-win_amd64.whl.metadata (9.7 kB)\n",
      "Using cached Pillow-9.5.0-cp312-cp312-win_amd64.whl (2.5 MB)\n",
      "Installing collected packages: Pillow\n",
      "Successfully installed Pillow-9.5.0\n",
      "Note: you may need to restart the kernel to use updated packages.\n"
     ]
    },
    {
     "name": "stderr",
     "output_type": "stream",
     "text": [
      "\n",
      "[notice] A new release of pip is available: 23.3.2 -> 24.0\n",
      "[notice] To update, run: python.exe -m pip install --upgrade pip\n"
     ]
    }
   ],
   "source": [
    "pip install Pillow==9.5.0"
   ]
  },
  {
   "cell_type": "code",
   "execution_count": 3,
   "id": "71ce9f33-9e1c-4343-9103-4df2dd41ffb8",
   "metadata": {},
   "outputs": [],
   "source": [
    "from PIL import Image"
   ]
  },
  {
   "cell_type": "code",
   "execution_count": 4,
   "id": "b714f62d-6a03-4453-8418-5d7aa5f6f05c",
   "metadata": {},
   "outputs": [],
   "source": [
    "import os"
   ]
  },
  {
   "cell_type": "code",
   "execution_count": 5,
   "id": "cf7e72ea-eb0a-4b85-b027-2340967867bd",
   "metadata": {},
   "outputs": [
    {
     "data": {
      "text/plain": [
       "'E:\\\\githubWorkSpace\\\\mailMoaJo'"
      ]
     },
     "execution_count": 5,
     "metadata": {},
     "output_type": "execute_result"
    }
   ],
   "source": [
    "os.getcwd()"
   ]
  },
  {
   "cell_type": "code",
   "execution_count": 6,
   "id": "cd8d5e20-c47d-4157-b779-98e130e956ec",
   "metadata": {},
   "outputs": [],
   "source": [
    "\n",
    "file_path = \"E:/githubWorkSpace/mailMoaJo/mailmoajo2/app/src/main/res/drawable/mailmoajo_logo.png\""
   ]
  },
  {
   "cell_type": "code",
   "execution_count": 7,
   "id": "10d58879-22f0-45a6-9b0f-8183ab8eda13",
   "metadata": {},
   "outputs": [],
   "source": [
    "\n",
    "# 원본 이미지 열기\n",
    "original_image = Image.open(file_path)"
   ]
  },
  {
   "cell_type": "code",
   "execution_count": 8,
   "id": "acf42683-cb81-4642-8356-671cfe2fa5da",
   "metadata": {},
   "outputs": [],
   "source": [
    "# 변환할 크기 목록\n",
    "sizes = {\n",
    "    \"mdpi\": (48, 48),\n",
    "    \"hdpi\": (72, 72),\n",
    "    \"xhdpi\": (96, 96),\n",
    "    \"xxhdpi\": (144, 144),\n",
    "    \"xxxhdpi\": (192, 192)\n",
    "}"
   ]
  },
  {
   "cell_type": "code",
   "execution_count": 9,
   "id": "7609a62b-40c7-45e7-abd1-aea984c848e8",
   "metadata": {},
   "outputs": [
    {
     "name": "stderr",
     "output_type": "stream",
     "text": [
      "C:\\Users\\sooni\\AppData\\Local\\Temp\\ipykernel_16324\\3442132261.py:3: DeprecationWarning: ANTIALIAS is deprecated and will be removed in Pillow 10 (2023-07-01). Use LANCZOS or Resampling.LANCZOS instead.\n",
      "  resized_image = original_image.resize(size, Image.ANTIALIAS)\n"
     ]
    }
   ],
   "source": [
    "# 각 크기로 변환하여 저장하기\n",
    "for density, size in sizes.items():\n",
    "    resized_image = original_image.resize(size, Image.ANTIALIAS)\n",
    "    resized_image.save(f\"E:/githubWorkSpace/mailMoaJo/mailmoajo2/app/src/main/res/mipmap-{density}/ic_launcher.webp\")"
   ]
  },
  {
   "cell_type": "code",
   "execution_count": null,
   "id": "f28cc259-caeb-4b24-b5a5-27caf0660663",
   "metadata": {},
   "outputs": [],
   "source": []
  }
 ],
 "metadata": {
  "kernelspec": {
   "display_name": "Python 3 (ipykernel)",
   "language": "python",
   "name": "python3"
  },
  "language_info": {
   "codemirror_mode": {
    "name": "ipython",
    "version": 3
   },
   "file_extension": ".py",
   "mimetype": "text/x-python",
   "name": "python",
   "nbconvert_exporter": "python",
   "pygments_lexer": "ipython3",
   "version": "3.12.1"
  }
 },
 "nbformat": 4,
 "nbformat_minor": 5
}
